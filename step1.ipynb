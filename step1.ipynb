{
  "nbformat": 4,
  "nbformat_minor": 0,
  "metadata": {
    "colab": {
      "provenance": [],
      "gpuType": "T4",
      "authorship_tag": "ABX9TyNho1xXZLrs8OGgbV8ph7/A",
      "include_colab_link": true
    },
    "kernelspec": {
      "name": "python3",
      "display_name": "Python 3"
    },
    "language_info": {
      "name": "python"
    },
    "accelerator": "GPU"
  },
  "cells": [
    {
      "cell_type": "markdown",
      "metadata": {
        "id": "view-in-github",
        "colab_type": "text"
      },
      "source": [
        "<a href=\"https://colab.research.google.com/github/anshulchauhan502/btp/blob/main/step1.ipynb\" target=\"_parent\"><img src=\"https://colab.research.google.com/assets/colab-badge.svg\" alt=\"Open In Colab\"/></a>"
      ]
    },
    {
      "cell_type": "code",
      "execution_count": 1,
      "metadata": {
        "colab": {
          "base_uri": "https://localhost:8080/"
        },
        "id": "tq7z5c_Ypy6Y",
        "outputId": "b00b37fd-1ea2-43b4-c6fa-4a3208617e7e"
      },
      "outputs": [
        {
          "output_type": "stream",
          "name": "stdout",
          "text": [
            "Mounted at /content/drive\n"
          ]
        }
      ],
      "source": [
        "from google.colab import drive\n",
        "drive.mount('/content/drive')"
      ]
    },
    {
      "cell_type": "code",
      "source": [
        "# ===========================\n",
        "# Cell 0 - Runtime & Setup\n",
        "# ===========================\n",
        "# Mount Drive, set base paths, toggle debug (small_run)\n",
        "from pathlib import Path\n",
        "import os\n",
        "import random\n",
        "import datetime\n",
        "SEED = 42\n",
        "random.seed(SEED)\n",
        "os.environ['PYTHONHASHSEED'] = str(SEED)\n",
        "\n",
        "# Toggle small_run for quick debug (True -> tiny dataset + fewer epochs)\n",
        "SMALL_RUN = False  # set True for a fast pipeline check\n",
        "DRIVE_MOUNT_PATH = \"/content/drive\"\n",
        "DATA_ROOT = \"/content/drive/MyDrive/ham10000_data\"\n",
        "IMAGES_DIR = \"/content/drive/MyDrive/ham10000_data/all_images\"\n",
        "METADATA_CSV = \"/content/drive/MyDrive/ham10000_data/HAM10000_metadata.csv\"\n",
        "EXPERIMENT_DIR = \"/content/drive/MyDrive/ham10000_data/experiments/efficientnet_b0_binary\"\n",
        "\n",
        "# Create artifact directories\n",
        "Path(EXPERIMENT_DIR).mkdir(parents=True, exist_ok=True)\n",
        "print(\"Experiment dir:\", EXPERIMENT_DIR)\n",
        "print(\"Images dir:\", IMAGES_DIR)\n",
        "print(\"Metadata csv:\", METADATA_CSV)\n",
        "print(\"Small run:\", SMALL_RUN)\n",
        "\n",
        "# If running in Colab, mount drive (uncomment if needed)\n",
        "# from google.colab import drive\n",
        "# drive.mount('/content/drive')\n"
      ],
      "metadata": {
        "colab": {
          "base_uri": "https://localhost:8080/"
        },
        "id": "K5ZYMF_Rp0KK",
        "outputId": "a17f3d7e-d8d9-4f6f-be16-c6fcbbd4babc"
      },
      "execution_count": 3,
      "outputs": [
        {
          "output_type": "stream",
          "name": "stdout",
          "text": [
            "Experiment dir: /content/drive/MyDrive/ham10000_data/experiments/efficientnet_b0_binary\n",
            "Images dir: /content/drive/MyDrive/ham10000_data/all_images\n",
            "Metadata csv: /content/drive/MyDrive/ham10000_data/HAM10000_metadata.csv\n",
            "Small run: False\n"
          ]
        }
      ]
    },
    {
      "cell_type": "code",
      "source": [
        "# ===========================\n",
        "# Cell 1 - Install & check versions (optional pinning)\n",
        "# ===========================\n",
        "# In general, prefer Colab's default TF. If you hit incompatibilities, uncomment lines below.\n",
        "# Recommended tested combo often: tensorflow>=2.10,<2.14 ; scikit-learn, pandas, matplotlib up-to-date.\n",
        "\n",
        "# !pip install -q \"tensorflow>=2.10,<2.14\" \"flower==2.2.0\"  # only use if you need to pin\n",
        "# !pip install -q matplotlib scikit-learn pandas\n",
        "\n",
        "import sys, pkgutil\n",
        "import tensorflow as tf\n",
        "import numpy as np\n",
        "import pandas as pd\n",
        "import sklearn\n",
        "import matplotlib\n",
        "import math\n",
        "\n",
        "print(\"Python:\", sys.version.splitlines()[0])\n",
        "print(\"TensorFlow:\", tf.__version__)\n",
        "print(\"NumPy:\", np.__version__)\n",
        "print(\"Pandas:\", pd.__version__)\n",
        "print(\"sklearn:\", sklearn.__version__)\n",
        "print(\"matplotlib:\", matplotlib.__version__)\n",
        "\n",
        "# Ensure GPU available (recommended)\n",
        "gpus = tf.config.list_physical_devices('GPU')\n",
        "print(\"GPUs found:\", gpus)\n"
      ],
      "metadata": {
        "colab": {
          "base_uri": "https://localhost:8080/"
        },
        "id": "4RHg8KepqZf9",
        "outputId": "9bce28e2-6dba-4dc7-af62-cd38811e3da5"
      },
      "execution_count": 4,
      "outputs": [
        {
          "output_type": "stream",
          "name": "stdout",
          "text": [
            "Python: 3.12.11 (main, Jun  4 2025, 08:56:18) [GCC 11.4.0]\n",
            "TensorFlow: 2.19.0\n",
            "NumPy: 2.0.2\n",
            "Pandas: 2.2.2\n",
            "sklearn: 1.6.1\n",
            "matplotlib: 3.10.0\n",
            "GPUs found: [PhysicalDevice(name='/physical_device:GPU:0', device_type='GPU')]\n"
          ]
        }
      ]
    },
    {
      "cell_type": "code",
      "source": [
        "# ===========================\n",
        "# Cell 2 - Imports & utilities\n",
        "# ===========================\n",
        "import tensorflow as tf\n",
        "from tensorflow.keras import layers, models, callbacks, optimizers\n",
        "from sklearn.model_selection import train_test_split\n",
        "from sklearn.metrics import classification_report, confusion_matrix, roc_auc_score, roc_curve\n",
        "import pandas as pd\n",
        "import numpy as np\n",
        "import os\n",
        "import matplotlib.pyplot as plt\n",
        "from collections import Counter\n",
        "import json\n",
        "\n",
        "# Reproducibility helpers (TF)\n",
        "tf.random.set_seed(SEED)\n",
        "\n",
        "def save_json(obj, path):\n",
        "    with open(path, 'w') as f:\n",
        "        json.dump(obj, f, indent=2)\n"
      ],
      "metadata": {
        "id": "HPeUgKm0qeGB"
      },
      "execution_count": 5,
      "outputs": []
    },
    {
      "cell_type": "code",
      "source": [
        "# ===========================\n",
        "# Cell 3 - Load metadata & basic EDA\n",
        "# ===========================\n",
        "df = pd.read_csv(METADATA_CSV)\n",
        "print(\"Metadata columns:\", df.columns.tolist())\n",
        "print(\"Sample rows:\")\n",
        "display(df.head())\n",
        "print(\"Total rows:\", len(df))\n",
        "\n",
        "# HAM10000 typical columns: image_id, dx, dx_type, age, sex, localization, etc.\n",
        "assert 'image_id' in df.columns or 'imageId' in df.columns, \"No image_id column found in metadata!\"\n",
        "# normalize column name\n",
        "if 'imageId' in df.columns and 'image_id' not in df.columns:\n",
        "    df = df.rename(columns={'imageId':'image_id'})\n",
        "\n",
        "# quick class distribution\n",
        "print(\"Original diagnosis counts:\")\n",
        "print(df['dx'].value_counts())\n"
      ],
      "metadata": {
        "colab": {
          "base_uri": "https://localhost:8080/",
          "height": 446
        },
        "id": "WotaCgJnqjVt",
        "outputId": "1673e7ba-9f81-46e6-f0c2-89d67670b94e"
      },
      "execution_count": 6,
      "outputs": [
        {
          "output_type": "stream",
          "name": "stdout",
          "text": [
            "Metadata columns: ['lesion_id', 'image_id', 'dx', 'dx_type', 'age', 'sex', 'localization']\n",
            "Sample rows:\n"
          ]
        },
        {
          "output_type": "display_data",
          "data": {
            "text/plain": [
              "     lesion_id      image_id   dx dx_type   age   sex localization\n",
              "0  HAM_0000118  ISIC_0027419  bkl   histo  80.0  male        scalp\n",
              "1  HAM_0000118  ISIC_0025030  bkl   histo  80.0  male        scalp\n",
              "2  HAM_0002730  ISIC_0026769  bkl   histo  80.0  male        scalp\n",
              "3  HAM_0002730  ISIC_0025661  bkl   histo  80.0  male        scalp\n",
              "4  HAM_0001466  ISIC_0031633  bkl   histo  75.0  male          ear"
            ],
            "text/html": [
              "\n",
              "  <div id=\"df-2a775689-b0c9-4b69-b6d8-ede4ca7babd4\" class=\"colab-df-container\">\n",
              "    <div>\n",
              "<style scoped>\n",
              "    .dataframe tbody tr th:only-of-type {\n",
              "        vertical-align: middle;\n",
              "    }\n",
              "\n",
              "    .dataframe tbody tr th {\n",
              "        vertical-align: top;\n",
              "    }\n",
              "\n",
              "    .dataframe thead th {\n",
              "        text-align: right;\n",
              "    }\n",
              "</style>\n",
              "<table border=\"1\" class=\"dataframe\">\n",
              "  <thead>\n",
              "    <tr style=\"text-align: right;\">\n",
              "      <th></th>\n",
              "      <th>lesion_id</th>\n",
              "      <th>image_id</th>\n",
              "      <th>dx</th>\n",
              "      <th>dx_type</th>\n",
              "      <th>age</th>\n",
              "      <th>sex</th>\n",
              "      <th>localization</th>\n",
              "    </tr>\n",
              "  </thead>\n",
              "  <tbody>\n",
              "    <tr>\n",
              "      <th>0</th>\n",
              "      <td>HAM_0000118</td>\n",
              "      <td>ISIC_0027419</td>\n",
              "      <td>bkl</td>\n",
              "      <td>histo</td>\n",
              "      <td>80.0</td>\n",
              "      <td>male</td>\n",
              "      <td>scalp</td>\n",
              "    </tr>\n",
              "    <tr>\n",
              "      <th>1</th>\n",
              "      <td>HAM_0000118</td>\n",
              "      <td>ISIC_0025030</td>\n",
              "      <td>bkl</td>\n",
              "      <td>histo</td>\n",
              "      <td>80.0</td>\n",
              "      <td>male</td>\n",
              "      <td>scalp</td>\n",
              "    </tr>\n",
              "    <tr>\n",
              "      <th>2</th>\n",
              "      <td>HAM_0002730</td>\n",
              "      <td>ISIC_0026769</td>\n",
              "      <td>bkl</td>\n",
              "      <td>histo</td>\n",
              "      <td>80.0</td>\n",
              "      <td>male</td>\n",
              "      <td>scalp</td>\n",
              "    </tr>\n",
              "    <tr>\n",
              "      <th>3</th>\n",
              "      <td>HAM_0002730</td>\n",
              "      <td>ISIC_0025661</td>\n",
              "      <td>bkl</td>\n",
              "      <td>histo</td>\n",
              "      <td>80.0</td>\n",
              "      <td>male</td>\n",
              "      <td>scalp</td>\n",
              "    </tr>\n",
              "    <tr>\n",
              "      <th>4</th>\n",
              "      <td>HAM_0001466</td>\n",
              "      <td>ISIC_0031633</td>\n",
              "      <td>bkl</td>\n",
              "      <td>histo</td>\n",
              "      <td>75.0</td>\n",
              "      <td>male</td>\n",
              "      <td>ear</td>\n",
              "    </tr>\n",
              "  </tbody>\n",
              "</table>\n",
              "</div>\n",
              "    <div class=\"colab-df-buttons\">\n",
              "\n",
              "  <div class=\"colab-df-container\">\n",
              "    <button class=\"colab-df-convert\" onclick=\"convertToInteractive('df-2a775689-b0c9-4b69-b6d8-ede4ca7babd4')\"\n",
              "            title=\"Convert this dataframe to an interactive table.\"\n",
              "            style=\"display:none;\">\n",
              "\n",
              "  <svg xmlns=\"http://www.w3.org/2000/svg\" height=\"24px\" viewBox=\"0 -960 960 960\">\n",
              "    <path d=\"M120-120v-720h720v720H120Zm60-500h600v-160H180v160Zm220 220h160v-160H400v160Zm0 220h160v-160H400v160ZM180-400h160v-160H180v160Zm440 0h160v-160H620v160ZM180-180h160v-160H180v160Zm440 0h160v-160H620v160Z\"/>\n",
              "  </svg>\n",
              "    </button>\n",
              "\n",
              "  <style>\n",
              "    .colab-df-container {\n",
              "      display:flex;\n",
              "      gap: 12px;\n",
              "    }\n",
              "\n",
              "    .colab-df-convert {\n",
              "      background-color: #E8F0FE;\n",
              "      border: none;\n",
              "      border-radius: 50%;\n",
              "      cursor: pointer;\n",
              "      display: none;\n",
              "      fill: #1967D2;\n",
              "      height: 32px;\n",
              "      padding: 0 0 0 0;\n",
              "      width: 32px;\n",
              "    }\n",
              "\n",
              "    .colab-df-convert:hover {\n",
              "      background-color: #E2EBFA;\n",
              "      box-shadow: 0px 1px 2px rgba(60, 64, 67, 0.3), 0px 1px 3px 1px rgba(60, 64, 67, 0.15);\n",
              "      fill: #174EA6;\n",
              "    }\n",
              "\n",
              "    .colab-df-buttons div {\n",
              "      margin-bottom: 4px;\n",
              "    }\n",
              "\n",
              "    [theme=dark] .colab-df-convert {\n",
              "      background-color: #3B4455;\n",
              "      fill: #D2E3FC;\n",
              "    }\n",
              "\n",
              "    [theme=dark] .colab-df-convert:hover {\n",
              "      background-color: #434B5C;\n",
              "      box-shadow: 0px 1px 3px 1px rgba(0, 0, 0, 0.15);\n",
              "      filter: drop-shadow(0px 1px 2px rgba(0, 0, 0, 0.3));\n",
              "      fill: #FFFFFF;\n",
              "    }\n",
              "  </style>\n",
              "\n",
              "    <script>\n",
              "      const buttonEl =\n",
              "        document.querySelector('#df-2a775689-b0c9-4b69-b6d8-ede4ca7babd4 button.colab-df-convert');\n",
              "      buttonEl.style.display =\n",
              "        google.colab.kernel.accessAllowed ? 'block' : 'none';\n",
              "\n",
              "      async function convertToInteractive(key) {\n",
              "        const element = document.querySelector('#df-2a775689-b0c9-4b69-b6d8-ede4ca7babd4');\n",
              "        const dataTable =\n",
              "          await google.colab.kernel.invokeFunction('convertToInteractive',\n",
              "                                                    [key], {});\n",
              "        if (!dataTable) return;\n",
              "\n",
              "        const docLinkHtml = 'Like what you see? Visit the ' +\n",
              "          '<a target=\"_blank\" href=https://colab.research.google.com/notebooks/data_table.ipynb>data table notebook</a>'\n",
              "          + ' to learn more about interactive tables.';\n",
              "        element.innerHTML = '';\n",
              "        dataTable['output_type'] = 'display_data';\n",
              "        await google.colab.output.renderOutput(dataTable, element);\n",
              "        const docLink = document.createElement('div');\n",
              "        docLink.innerHTML = docLinkHtml;\n",
              "        element.appendChild(docLink);\n",
              "      }\n",
              "    </script>\n",
              "  </div>\n",
              "\n",
              "\n",
              "    <div id=\"df-ba2a12f5-b3f6-473a-9d89-efc593dcb978\">\n",
              "      <button class=\"colab-df-quickchart\" onclick=\"quickchart('df-ba2a12f5-b3f6-473a-9d89-efc593dcb978')\"\n",
              "                title=\"Suggest charts\"\n",
              "                style=\"display:none;\">\n",
              "\n",
              "<svg xmlns=\"http://www.w3.org/2000/svg\" height=\"24px\"viewBox=\"0 0 24 24\"\n",
              "     width=\"24px\">\n",
              "    <g>\n",
              "        <path d=\"M19 3H5c-1.1 0-2 .9-2 2v14c0 1.1.9 2 2 2h14c1.1 0 2-.9 2-2V5c0-1.1-.9-2-2-2zM9 17H7v-7h2v7zm4 0h-2V7h2v10zm4 0h-2v-4h2v4z\"/>\n",
              "    </g>\n",
              "</svg>\n",
              "      </button>\n",
              "\n",
              "<style>\n",
              "  .colab-df-quickchart {\n",
              "      --bg-color: #E8F0FE;\n",
              "      --fill-color: #1967D2;\n",
              "      --hover-bg-color: #E2EBFA;\n",
              "      --hover-fill-color: #174EA6;\n",
              "      --disabled-fill-color: #AAA;\n",
              "      --disabled-bg-color: #DDD;\n",
              "  }\n",
              "\n",
              "  [theme=dark] .colab-df-quickchart {\n",
              "      --bg-color: #3B4455;\n",
              "      --fill-color: #D2E3FC;\n",
              "      --hover-bg-color: #434B5C;\n",
              "      --hover-fill-color: #FFFFFF;\n",
              "      --disabled-bg-color: #3B4455;\n",
              "      --disabled-fill-color: #666;\n",
              "  }\n",
              "\n",
              "  .colab-df-quickchart {\n",
              "    background-color: var(--bg-color);\n",
              "    border: none;\n",
              "    border-radius: 50%;\n",
              "    cursor: pointer;\n",
              "    display: none;\n",
              "    fill: var(--fill-color);\n",
              "    height: 32px;\n",
              "    padding: 0;\n",
              "    width: 32px;\n",
              "  }\n",
              "\n",
              "  .colab-df-quickchart:hover {\n",
              "    background-color: var(--hover-bg-color);\n",
              "    box-shadow: 0 1px 2px rgba(60, 64, 67, 0.3), 0 1px 3px 1px rgba(60, 64, 67, 0.15);\n",
              "    fill: var(--button-hover-fill-color);\n",
              "  }\n",
              "\n",
              "  .colab-df-quickchart-complete:disabled,\n",
              "  .colab-df-quickchart-complete:disabled:hover {\n",
              "    background-color: var(--disabled-bg-color);\n",
              "    fill: var(--disabled-fill-color);\n",
              "    box-shadow: none;\n",
              "  }\n",
              "\n",
              "  .colab-df-spinner {\n",
              "    border: 2px solid var(--fill-color);\n",
              "    border-color: transparent;\n",
              "    border-bottom-color: var(--fill-color);\n",
              "    animation:\n",
              "      spin 1s steps(1) infinite;\n",
              "  }\n",
              "\n",
              "  @keyframes spin {\n",
              "    0% {\n",
              "      border-color: transparent;\n",
              "      border-bottom-color: var(--fill-color);\n",
              "      border-left-color: var(--fill-color);\n",
              "    }\n",
              "    20% {\n",
              "      border-color: transparent;\n",
              "      border-left-color: var(--fill-color);\n",
              "      border-top-color: var(--fill-color);\n",
              "    }\n",
              "    30% {\n",
              "      border-color: transparent;\n",
              "      border-left-color: var(--fill-color);\n",
              "      border-top-color: var(--fill-color);\n",
              "      border-right-color: var(--fill-color);\n",
              "    }\n",
              "    40% {\n",
              "      border-color: transparent;\n",
              "      border-right-color: var(--fill-color);\n",
              "      border-top-color: var(--fill-color);\n",
              "    }\n",
              "    60% {\n",
              "      border-color: transparent;\n",
              "      border-right-color: var(--fill-color);\n",
              "    }\n",
              "    80% {\n",
              "      border-color: transparent;\n",
              "      border-right-color: var(--fill-color);\n",
              "      border-bottom-color: var(--fill-color);\n",
              "    }\n",
              "    90% {\n",
              "      border-color: transparent;\n",
              "      border-bottom-color: var(--fill-color);\n",
              "    }\n",
              "  }\n",
              "</style>\n",
              "\n",
              "      <script>\n",
              "        async function quickchart(key) {\n",
              "          const quickchartButtonEl =\n",
              "            document.querySelector('#' + key + ' button');\n",
              "          quickchartButtonEl.disabled = true;  // To prevent multiple clicks.\n",
              "          quickchartButtonEl.classList.add('colab-df-spinner');\n",
              "          try {\n",
              "            const charts = await google.colab.kernel.invokeFunction(\n",
              "                'suggestCharts', [key], {});\n",
              "          } catch (error) {\n",
              "            console.error('Error during call to suggestCharts:', error);\n",
              "          }\n",
              "          quickchartButtonEl.classList.remove('colab-df-spinner');\n",
              "          quickchartButtonEl.classList.add('colab-df-quickchart-complete');\n",
              "        }\n",
              "        (() => {\n",
              "          let quickchartButtonEl =\n",
              "            document.querySelector('#df-ba2a12f5-b3f6-473a-9d89-efc593dcb978 button');\n",
              "          quickchartButtonEl.style.display =\n",
              "            google.colab.kernel.accessAllowed ? 'block' : 'none';\n",
              "        })();\n",
              "      </script>\n",
              "    </div>\n",
              "\n",
              "    </div>\n",
              "  </div>\n"
            ],
            "application/vnd.google.colaboratory.intrinsic+json": {
              "type": "dataframe",
              "summary": "{\n  \"name\": \"print(df['dx']\",\n  \"rows\": 5,\n  \"fields\": [\n    {\n      \"column\": \"lesion_id\",\n      \"properties\": {\n        \"dtype\": \"string\",\n        \"num_unique_values\": 3,\n        \"samples\": [\n          \"HAM_0000118\",\n          \"HAM_0002730\",\n          \"HAM_0001466\"\n        ],\n        \"semantic_type\": \"\",\n        \"description\": \"\"\n      }\n    },\n    {\n      \"column\": \"image_id\",\n      \"properties\": {\n        \"dtype\": \"string\",\n        \"num_unique_values\": 5,\n        \"samples\": [\n          \"ISIC_0025030\",\n          \"ISIC_0031633\",\n          \"ISIC_0026769\"\n        ],\n        \"semantic_type\": \"\",\n        \"description\": \"\"\n      }\n    },\n    {\n      \"column\": \"dx\",\n      \"properties\": {\n        \"dtype\": \"category\",\n        \"num_unique_values\": 1,\n        \"samples\": [\n          \"bkl\"\n        ],\n        \"semantic_type\": \"\",\n        \"description\": \"\"\n      }\n    },\n    {\n      \"column\": \"dx_type\",\n      \"properties\": {\n        \"dtype\": \"category\",\n        \"num_unique_values\": 1,\n        \"samples\": [\n          \"histo\"\n        ],\n        \"semantic_type\": \"\",\n        \"description\": \"\"\n      }\n    },\n    {\n      \"column\": \"age\",\n      \"properties\": {\n        \"dtype\": \"number\",\n        \"std\": 2.23606797749979,\n        \"min\": 75.0,\n        \"max\": 80.0,\n        \"num_unique_values\": 2,\n        \"samples\": [\n          75.0\n        ],\n        \"semantic_type\": \"\",\n        \"description\": \"\"\n      }\n    },\n    {\n      \"column\": \"sex\",\n      \"properties\": {\n        \"dtype\": \"category\",\n        \"num_unique_values\": 1,\n        \"samples\": [\n          \"male\"\n        ],\n        \"semantic_type\": \"\",\n        \"description\": \"\"\n      }\n    },\n    {\n      \"column\": \"localization\",\n      \"properties\": {\n        \"dtype\": \"category\",\n        \"num_unique_values\": 2,\n        \"samples\": [\n          \"ear\"\n        ],\n        \"semantic_type\": \"\",\n        \"description\": \"\"\n      }\n    }\n  ]\n}"
            }
          },
          "metadata": {}
        },
        {
          "output_type": "stream",
          "name": "stdout",
          "text": [
            "Total rows: 10015\n",
            "Original diagnosis counts:\n",
            "dx\n",
            "nv       6705\n",
            "mel      1113\n",
            "bkl      1099\n",
            "bcc       514\n",
            "akiec     327\n",
            "vasc      142\n",
            "df        115\n",
            "Name: count, dtype: int64\n"
          ]
        }
      ]
    },
    {
      "cell_type": "code",
      "source": [
        "# ===========================\n",
        "# Cell 4 - Create binary labels (malignant vs benign)\n",
        "# ===========================\n",
        "# DEFAULT mapping (change if you want)\n",
        "# malignant list chosen: melanoma (mel), basal cell carcinoma (bcc), actinic keratoses/intraepithelial carcinoma (akiec)\n",
        "MALIGNANT = ['mel', 'bcc', 'akiec']\n",
        "\n",
        "# Create label column: 1 = malignant, 0 = benign\n",
        "df['label_binary'] = df['dx'].apply(lambda x: 1 if x in MALIGNANT else 0)\n",
        "print(\"Binary distribution (malignant=1):\")\n",
        "print(df['label_binary'].value_counts())\n",
        "\n",
        "# Inspect sample file names and check image files exist\n",
        "def first_existing_image(image_id):\n",
        "    for ext in ['.jpg', '.jpeg', '.png']:\n",
        "        p = os.path.join(IMAGES_DIR, image_id + ext)\n",
        "        if os.path.exists(p):\n",
        "            return p\n",
        "    return None\n",
        "\n",
        "# Map image paths\n",
        "df['image_path'] = df['image_id'].astype(str).apply(lambda x: first_existing_image(x))\n",
        "missing_count = df['image_path'].isna().sum()\n",
        "print(\"Images missing (no file found for image_id):\", missing_count)\n",
        "if missing_count > 0:\n",
        "    print(\"Examples of missing ids:\", df[df['image_path'].isna()]['image_id'].tolist()[:10])\n",
        "    # Optionally filter out missing\n",
        "    df = df.dropna(subset=['image_path']).reset_index(drop=True)\n",
        "    print(\"Filtered metadata rows:\", len(df))\n"
      ],
      "metadata": {
        "colab": {
          "base_uri": "https://localhost:8080/"
        },
        "id": "C_cSEAy6qmBL",
        "outputId": "a5ab4fbb-9623-46a4-d502-38d0359b2291"
      },
      "execution_count": 7,
      "outputs": [
        {
          "output_type": "stream",
          "name": "stdout",
          "text": [
            "Binary distribution (malignant=1):\n",
            "label_binary\n",
            "0    8061\n",
            "1    1954\n",
            "Name: count, dtype: int64\n",
            "Images missing (no file found for image_id): 2513\n",
            "Examples of missing ids: ['ISIC_0032417', 'ISIC_0032129', 'ISIC_0032343', 'ISIC_0032128', 'ISIC_0032013', 'ISIC_0031967', 'ISIC_0033539', 'ISIC_0032283', 'ISIC_0032463', 'ISIC_0032306']\n",
            "Filtered metadata rows: 7502\n"
          ]
        }
      ]
    },
    {
      "cell_type": "code",
      "source": [
        "# ===========================\n",
        "# Cell 5 - Train/val/test stratified split\n",
        "# ===========================\n",
        "# Stratified split into train/val/test (70/15/15)\n",
        "train_df, temp_df = train_test_split(df, test_size=0.30, stratify=df['label_binary'], random_state=SEED)\n",
        "val_df, test_df = train_test_split(temp_df, test_size=0.5, stratify=temp_df['label_binary'], random_state=SEED)\n",
        "\n",
        "print(\"Train/Val/Test sizes:\", len(train_df), len(val_df), len(test_df))\n",
        "\n",
        "# Small-run: subsample for quick debug\n",
        "if SMALL_RUN:\n",
        "    train_df = train_df.sample(n=min(200, len(train_df)), random_state=SEED)\n",
        "    val_df = val_df.sample(n=min(50, len(val_df)), random_state=SEED)\n",
        "    test_df = test_df.sample(n=min(50, len(test_df)), random_state=SEED)\n",
        "    print(\"Small-run sizes:\", len(train_df), len(val_df), len(test_df))\n",
        "\n",
        "# Save splits for reproducibility\n",
        "train_df.to_csv(os.path.join(EXPERIMENT_DIR, \"train_metadata.csv\"), index=False)\n",
        "val_df.to_csv(os.path.join(EXPERIMENT_DIR, \"val_metadata.csv\"), index=False)\n",
        "test_df.to_csv(os.path.join(EXPERIMENT_DIR, \"test_metadata.csv\"), index=False)\n"
      ],
      "metadata": {
        "colab": {
          "base_uri": "https://localhost:8080/"
        },
        "id": "HFClQAQYqrTQ",
        "outputId": "75ba9fd7-28de-4897-9ab5-96a57043fd26"
      },
      "execution_count": 8,
      "outputs": [
        {
          "output_type": "stream",
          "name": "stdout",
          "text": [
            "Train/Val/Test sizes: 5251 1125 1126\n"
          ]
        }
      ]
    },
    {
      "cell_type": "code",
      "source": [
        "# ===========================\n",
        "# Cell 6 - Dataset utils: tf.data pipeline and augmentations\n",
        "# ===========================\n",
        "IMG_SIZE = 224\n",
        "BATCH_SIZE = 32 if not SMALL_RUN else 16\n",
        "AUTOTUNE = tf.data.experimental.AUTOTUNE\n",
        "\n",
        "def preprocess_image(path, label, img_size=IMG_SIZE):\n",
        "    # Reads image file, decodes, resizes and scales to [0,1]\n",
        "    image = tf.io.read_file(path)\n",
        "    image = tf.image.decode_jpeg(image, channels=3)  # works with jpg/jpeg\n",
        "    image = tf.image.convert_image_dtype(image, tf.float32)  # scales to [0,1]\n",
        "    image = tf.image.resize(image, [img_size, img_size])\n",
        "    return image, label\n",
        "\n",
        "def augment(image, label):\n",
        "    # simple augmentation pipeline (tf.image ops)\n",
        "    image = tf.image.random_flip_left_right(image)\n",
        "    image = tf.image.random_flip_up_down(image)\n",
        "    image = tf.image.random_brightness(image, max_delta=0.1)\n",
        "    image = tf.image.random_contrast(image, lower=0.9, upper=1.1)\n",
        "    image = tf.image.random_saturation(image, lower=0.9, upper=1.1)\n",
        "    # small rotation via tf.keras\n",
        "    image = tf.keras.preprocessing.image.random_rotation(image.numpy(), rg=10, row_axis=0, col_axis=1, channel_axis=2)\n",
        "    return tf.convert_to_tensor(image, dtype=tf.float32), label\n",
        "\n",
        "def make_dataset(df_meta, shuffle=True, augment_data=False):\n",
        "    paths = df_meta['image_path'].values\n",
        "    labels = df_meta['label_binary'].astype(np.int32).values\n",
        "    ds = tf.data.Dataset.from_tensor_slices((paths, labels))\n",
        "    if shuffle:\n",
        "        ds = ds.shuffle(buffer_size=len(paths), seed=SEED)\n",
        "    ds = ds.map(lambda p, l: tf.py_function(func=preprocess_image, inp=[p, l], Tout=(tf.float32, tf.int32)),\n",
        "                num_parallel_calls=AUTOTUNE)\n",
        "    # set shapes after py_function\n",
        "    def set_shapes(img, lbl):\n",
        "        img.set_shape([IMG_SIZE, IMG_SIZE, 3])\n",
        "        lbl.set_shape([])\n",
        "        return img, lbl\n",
        "    ds = ds.map(set_shapes, num_parallel_calls=AUTOTUNE)\n",
        "    if augment_data:\n",
        "        # use simple augmentation wrapper using tf.py_function for rotation (could be slower)\n",
        "        def aug_py(image, label):\n",
        "            img, lbl = tf.py_function(func=augment, inp=[image, label], Tout=(tf.float32, tf.int32))\n",
        "            img.set_shape([IMG_SIZE, IMG_SIZE, 3])\n",
        "            lbl.set_shape([])\n",
        "            return img, lbl\n",
        "        ds = ds.map(aug_py, num_parallel_calls=AUTOTUNE)\n",
        "    ds = ds.batch(BATCH_SIZE).prefetch(AUTOTUNE)\n",
        "    return ds\n",
        "\n",
        "train_ds = make_dataset(train_df, shuffle=True, augment_data=True)\n",
        "val_ds = make_dataset(val_df, shuffle=False, augment_data=False)\n",
        "test_ds = make_dataset(test_df, shuffle=False, augment_data=False)\n",
        "\n",
        "# quick sanity: show a batch shape\n",
        "for batch in train_ds.take(1):\n",
        "    images, labels = batch\n",
        "    print(\"Batch shapes:\", images.shape, labels.shape)\n",
        "    break\n"
      ],
      "metadata": {
        "colab": {
          "base_uri": "https://localhost:8080/"
        },
        "id": "rIxkQJNNquDB",
        "outputId": "2d6fdb83-e1ed-4b22-a7a1-036793183353"
      },
      "execution_count": 9,
      "outputs": [
        {
          "output_type": "stream",
          "name": "stdout",
          "text": [
            "Batch shapes: (32, 224, 224, 3) (32,)\n"
          ]
        }
      ]
    },
    {
      "cell_type": "code",
      "source": [
        "# ===========================\n",
        "# Cell 7 - Class weights & imbalance handling\n",
        "# ===========================\n",
        "from sklearn.utils.class_weight import compute_class_weight\n",
        "classes = np.unique(train_df['label_binary'])\n",
        "class_weights = compute_class_weight(class_weight='balanced', classes=classes, y=train_df['label_binary'])\n",
        "class_weights_dict = {int(classes[i]): float(class_weights[i]) for i in range(len(classes))}\n",
        "print(\"Class weights:\", class_weights_dict)\n",
        "save_json(class_weights_dict, os.path.join(EXPERIMENT_DIR, \"class_weights.json\"))\n"
      ],
      "metadata": {
        "colab": {
          "base_uri": "https://localhost:8080/"
        },
        "id": "WX-8wLALqwND",
        "outputId": "20ed6871-1e13-417b-872b-91c3a7b84e0e"
      },
      "execution_count": 10,
      "outputs": [
        {
          "output_type": "stream",
          "name": "stdout",
          "text": [
            "Class weights: {0: 0.6073328706916493, 1: 2.8292025862068964}\n"
          ]
        }
      ]
    },
    {
      "cell_type": "code",
      "source": [
        "# ===========================\n",
        "# Cell 8 - Build EfficientNetB0 model\n",
        "# ===========================\n",
        "def build_model(input_shape=(IMG_SIZE, IMG_SIZE, 3), base_trainable=False):\n",
        "    base = tf.keras.applications.EfficientNetB0(include_top=False, weights='imagenet', input_shape=input_shape, pooling='avg')\n",
        "    base.trainable = base_trainable  # whether to fine-tune base\n",
        "    inputs = layers.Input(shape=input_shape)\n",
        "    x = tf.keras.applications.efficientnet.preprocess_input(inputs)  # correct preprocessing\n",
        "    x = base(x, training=False)\n",
        "    x = layers.Dropout(0.4)(x)\n",
        "    outputs = layers.Dense(1, activation='sigmoid')(x)  # binary\n",
        "    model = models.Model(inputs, outputs)\n",
        "    return model\n",
        "\n",
        "model = build_model(base_trainable=False)\n",
        "model.summary()\n"
      ],
      "metadata": {
        "colab": {
          "base_uri": "https://localhost:8080/",
          "height": 304
        },
        "id": "ge6bPWIbq1Is",
        "outputId": "e81a99b4-c015-48c1-bd0f-01cfbf694ef2"
      },
      "execution_count": 11,
      "outputs": [
        {
          "output_type": "stream",
          "name": "stdout",
          "text": [
            "Downloading data from https://storage.googleapis.com/keras-applications/efficientnetb0_notop.h5\n",
            "\u001b[1m16705208/16705208\u001b[0m \u001b[32m━━━━━━━━━━━━━━━━━━━━\u001b[0m\u001b[37m\u001b[0m \u001b[1m0s\u001b[0m 0us/step\n"
          ]
        },
        {
          "output_type": "display_data",
          "data": {
            "text/plain": [
              "\u001b[1mModel: \"functional\"\u001b[0m\n"
            ],
            "text/html": [
              "<pre style=\"white-space:pre;overflow-x:auto;line-height:normal;font-family:Menlo,'DejaVu Sans Mono',consolas,'Courier New',monospace\"><span style=\"font-weight: bold\">Model: \"functional\"</span>\n",
              "</pre>\n"
            ]
          },
          "metadata": {}
        },
        {
          "output_type": "display_data",
          "data": {
            "text/plain": [
              "┏━━━━━━━━━━━━━━━━━━━━━━━━━━━━━━━━━┳━━━━━━━━━━━━━━━━━━━━━━━━┳━━━━━━━━━━━━━━━┓\n",
              "┃\u001b[1m \u001b[0m\u001b[1mLayer (type)                   \u001b[0m\u001b[1m \u001b[0m┃\u001b[1m \u001b[0m\u001b[1mOutput Shape          \u001b[0m\u001b[1m \u001b[0m┃\u001b[1m \u001b[0m\u001b[1m      Param #\u001b[0m\u001b[1m \u001b[0m┃\n",
              "┡━━━━━━━━━━━━━━━━━━━━━━━━━━━━━━━━━╇━━━━━━━━━━━━━━━━━━━━━━━━╇━━━━━━━━━━━━━━━┩\n",
              "│ input_layer_1 (\u001b[38;5;33mInputLayer\u001b[0m)      │ (\u001b[38;5;45mNone\u001b[0m, \u001b[38;5;34m224\u001b[0m, \u001b[38;5;34m224\u001b[0m, \u001b[38;5;34m3\u001b[0m)    │             \u001b[38;5;34m0\u001b[0m │\n",
              "├─────────────────────────────────┼────────────────────────┼───────────────┤\n",
              "│ efficientnetb0 (\u001b[38;5;33mFunctional\u001b[0m)     │ (\u001b[38;5;45mNone\u001b[0m, \u001b[38;5;34m1280\u001b[0m)           │     \u001b[38;5;34m4,049,571\u001b[0m │\n",
              "├─────────────────────────────────┼────────────────────────┼───────────────┤\n",
              "│ dropout (\u001b[38;5;33mDropout\u001b[0m)               │ (\u001b[38;5;45mNone\u001b[0m, \u001b[38;5;34m1280\u001b[0m)           │             \u001b[38;5;34m0\u001b[0m │\n",
              "├─────────────────────────────────┼────────────────────────┼───────────────┤\n",
              "│ dense (\u001b[38;5;33mDense\u001b[0m)                   │ (\u001b[38;5;45mNone\u001b[0m, \u001b[38;5;34m1\u001b[0m)              │         \u001b[38;5;34m1,281\u001b[0m │\n",
              "└─────────────────────────────────┴────────────────────────┴───────────────┘\n"
            ],
            "text/html": [
              "<pre style=\"white-space:pre;overflow-x:auto;line-height:normal;font-family:Menlo,'DejaVu Sans Mono',consolas,'Courier New',monospace\">┏━━━━━━━━━━━━━━━━━━━━━━━━━━━━━━━━━┳━━━━━━━━━━━━━━━━━━━━━━━━┳━━━━━━━━━━━━━━━┓\n",
              "┃<span style=\"font-weight: bold\"> Layer (type)                    </span>┃<span style=\"font-weight: bold\"> Output Shape           </span>┃<span style=\"font-weight: bold\">       Param # </span>┃\n",
              "┡━━━━━━━━━━━━━━━━━━━━━━━━━━━━━━━━━╇━━━━━━━━━━━━━━━━━━━━━━━━╇━━━━━━━━━━━━━━━┩\n",
              "│ input_layer_1 (<span style=\"color: #0087ff; text-decoration-color: #0087ff\">InputLayer</span>)      │ (<span style=\"color: #00d7ff; text-decoration-color: #00d7ff\">None</span>, <span style=\"color: #00af00; text-decoration-color: #00af00\">224</span>, <span style=\"color: #00af00; text-decoration-color: #00af00\">224</span>, <span style=\"color: #00af00; text-decoration-color: #00af00\">3</span>)    │             <span style=\"color: #00af00; text-decoration-color: #00af00\">0</span> │\n",
              "├─────────────────────────────────┼────────────────────────┼───────────────┤\n",
              "│ efficientnetb0 (<span style=\"color: #0087ff; text-decoration-color: #0087ff\">Functional</span>)     │ (<span style=\"color: #00d7ff; text-decoration-color: #00d7ff\">None</span>, <span style=\"color: #00af00; text-decoration-color: #00af00\">1280</span>)           │     <span style=\"color: #00af00; text-decoration-color: #00af00\">4,049,571</span> │\n",
              "├─────────────────────────────────┼────────────────────────┼───────────────┤\n",
              "│ dropout (<span style=\"color: #0087ff; text-decoration-color: #0087ff\">Dropout</span>)               │ (<span style=\"color: #00d7ff; text-decoration-color: #00d7ff\">None</span>, <span style=\"color: #00af00; text-decoration-color: #00af00\">1280</span>)           │             <span style=\"color: #00af00; text-decoration-color: #00af00\">0</span> │\n",
              "├─────────────────────────────────┼────────────────────────┼───────────────┤\n",
              "│ dense (<span style=\"color: #0087ff; text-decoration-color: #0087ff\">Dense</span>)                   │ (<span style=\"color: #00d7ff; text-decoration-color: #00d7ff\">None</span>, <span style=\"color: #00af00; text-decoration-color: #00af00\">1</span>)              │         <span style=\"color: #00af00; text-decoration-color: #00af00\">1,281</span> │\n",
              "└─────────────────────────────────┴────────────────────────┴───────────────┘\n",
              "</pre>\n"
            ]
          },
          "metadata": {}
        },
        {
          "output_type": "display_data",
          "data": {
            "text/plain": [
              "\u001b[1m Total params: \u001b[0m\u001b[38;5;34m4,050,852\u001b[0m (15.45 MB)\n"
            ],
            "text/html": [
              "<pre style=\"white-space:pre;overflow-x:auto;line-height:normal;font-family:Menlo,'DejaVu Sans Mono',consolas,'Courier New',monospace\"><span style=\"font-weight: bold\"> Total params: </span><span style=\"color: #00af00; text-decoration-color: #00af00\">4,050,852</span> (15.45 MB)\n",
              "</pre>\n"
            ]
          },
          "metadata": {}
        },
        {
          "output_type": "display_data",
          "data": {
            "text/plain": [
              "\u001b[1m Trainable params: \u001b[0m\u001b[38;5;34m1,281\u001b[0m (5.00 KB)\n"
            ],
            "text/html": [
              "<pre style=\"white-space:pre;overflow-x:auto;line-height:normal;font-family:Menlo,'DejaVu Sans Mono',consolas,'Courier New',monospace\"><span style=\"font-weight: bold\"> Trainable params: </span><span style=\"color: #00af00; text-decoration-color: #00af00\">1,281</span> (5.00 KB)\n",
              "</pre>\n"
            ]
          },
          "metadata": {}
        },
        {
          "output_type": "display_data",
          "data": {
            "text/plain": [
              "\u001b[1m Non-trainable params: \u001b[0m\u001b[38;5;34m4,049,571\u001b[0m (15.45 MB)\n"
            ],
            "text/html": [
              "<pre style=\"white-space:pre;overflow-x:auto;line-height:normal;font-family:Menlo,'DejaVu Sans Mono',consolas,'Courier New',monospace\"><span style=\"font-weight: bold\"> Non-trainable params: </span><span style=\"color: #00af00; text-decoration-color: #00af00\">4,049,571</span> (15.45 MB)\n",
              "</pre>\n"
            ]
          },
          "metadata": {}
        }
      ]
    },
    {
      "cell_type": "code",
      "source": [
        "# ===========================\n",
        "# Cell 9 - Compile, callbacks, and training\n",
        "# ===========================\n",
        "EPOCHS = 20 if not SMALL_RUN else 3\n",
        "LEARNING_RATE = 1e-4\n",
        "\n",
        "model.compile(\n",
        "    optimizer=optimizers.Adam(learning_rate=LEARNING_RATE),\n",
        "    loss='binary_crossentropy',\n",
        "    metrics=['accuracy', tf.keras.metrics.AUC(name='auc')]\n",
        ")\n",
        "\n",
        "checkpoint_path = os.path.join(EXPERIMENT_DIR, \"best_model.h5\")\n",
        "cb = [\n",
        "    callbacks.ModelCheckpoint(checkpoint_path, monitor='val_loss', save_best_only=True, verbose=1),\n",
        "    callbacks.EarlyStopping(monitor='val_loss', patience=5, restore_best_weights=True, verbose=1),\n",
        "    callbacks.ReduceLROnPlateau(monitor='val_loss', factor=0.5, patience=3, verbose=1)\n",
        "]\n",
        "\n",
        "history = model.fit(\n",
        "    train_ds,\n",
        "    validation_data=val_ds,\n",
        "    epochs=EPOCHS,\n",
        "    class_weight=class_weights_dict,\n",
        "    callbacks=cb\n",
        ")\n",
        "\n",
        "# Save training history\n",
        "hist_path = os.path.join(EXPERIMENT_DIR, \"history.json\")\n",
        "save_json(history.history, hist_path)\n",
        "print(\"Training complete, history saved to:\", hist_path)\n"
      ],
      "metadata": {
        "colab": {
          "base_uri": "https://localhost:8080/"
        },
        "id": "Hoyz2B57q4E1",
        "outputId": "0cabb344-b4df-4804-ecb5-8faf3ddc68a5"
      },
      "execution_count": null,
      "outputs": [
        {
          "output_type": "stream",
          "name": "stdout",
          "text": [
            "Epoch 1/20\n",
            "\u001b[1m165/165\u001b[0m \u001b[32m━━━━━━━━━━━━━━━━━━━━\u001b[0m\u001b[37m\u001b[0m \u001b[1m0s\u001b[0m 7s/step - accuracy: 0.4268 - auc: 0.5010 - loss: 0.7036\n",
            "Epoch 1: val_loss improved from inf to 0.68734, saving model to /content/drive/MyDrive/ham10000_data/experiments/efficientnet_b0_binary/best_model.h5\n"
          ]
        },
        {
          "output_type": "stream",
          "name": "stderr",
          "text": [
            "WARNING:absl:You are saving your model as an HDF5 file via `model.save()` or `keras.saving.save_model(model)`. This file format is considered legacy. We recommend using instead the native Keras format, e.g. `model.save('my_model.keras')` or `keras.saving.save_model(model, 'my_model.keras')`. \n"
          ]
        },
        {
          "output_type": "stream",
          "name": "stdout",
          "text": [
            "\b\b\b\b\b\b\b\b\b\b\b\b\b\b\b\b\b\b\b\b\b\b\b\b\b\b\b\b\b\b\b\b\b\b\b\b\b\b\b\b\b\b\b\b\b\b\b\b\b\b\b\b\b\b\b\b\b\b\b\b\b\b\b\b\b\b\b\b\b\b\b\b\b\b\b\b\b\b\b\b\b\b\b\b\b\b\b\r\u001b[1m165/165\u001b[0m \u001b[32m━━━━━━━━━━━━━━━━━━━━\u001b[0m\u001b[37m\u001b[0m \u001b[1m1381s\u001b[0m 8s/step - accuracy: 0.4270 - auc: 0.5010 - loss: 0.7035 - val_accuracy: 0.8231 - val_auc: 0.5000 - val_loss: 0.6873 - learning_rate: 1.0000e-04\n",
            "Epoch 2/20\n",
            "\u001b[1m165/165\u001b[0m \u001b[32m━━━━━━━━━━━━━━━━━━━━\u001b[0m\u001b[37m\u001b[0m \u001b[1m0s\u001b[0m 906ms/step - accuracy: 0.4958 - auc: 0.4775 - loss: 0.7013\n",
            "Epoch 2: val_loss did not improve from 0.68734\n",
            "\u001b[1m165/165\u001b[0m \u001b[32m━━━━━━━━━━━━━━━━━━━━\u001b[0m\u001b[37m\u001b[0m \u001b[1m160s\u001b[0m 972ms/step - accuracy: 0.4958 - auc: 0.4776 - loss: 0.7013 - val_accuracy: 0.1769 - val_auc: 0.5000 - val_loss: 0.6988 - learning_rate: 1.0000e-04\n",
            "Epoch 3/20\n",
            "\u001b[1m164/165\u001b[0m \u001b[32m━━━━━━━━━━━━━━━━━━━\u001b[0m\u001b[37m━\u001b[0m \u001b[1m0s\u001b[0m 919ms/step - accuracy: 0.4546 - auc: 0.4754 - loss: 0.6930\n",
            "Epoch 3: val_loss did not improve from 0.68734\n",
            "\u001b[1m165/165\u001b[0m \u001b[32m━━━━━━━━━━━━━━━━━━━━\u001b[0m\u001b[37m\u001b[0m \u001b[1m161s\u001b[0m 977ms/step - accuracy: 0.4548 - auc: 0.4756 - loss: 0.6931 - val_accuracy: 0.1769 - val_auc: 0.5000 - val_loss: 0.7140 - learning_rate: 1.0000e-04\n",
            "Epoch 4/20\n",
            "\u001b[1m165/165\u001b[0m \u001b[32m━━━━━━━━━━━━━━━━━━━━\u001b[0m\u001b[37m\u001b[0m \u001b[1m0s\u001b[0m 974ms/step - accuracy: 0.4949 - auc: 0.4867 - loss: 0.6966\n",
            "Epoch 4: val_loss did not improve from 0.68734\n",
            "\n",
            "Epoch 4: ReduceLROnPlateau reducing learning rate to 4.999999873689376e-05.\n",
            "\u001b[1m165/165\u001b[0m \u001b[32m━━━━━━━━━━━━━━━━━━━━\u001b[0m\u001b[37m\u001b[0m \u001b[1m231s\u001b[0m 1s/step - accuracy: 0.4950 - auc: 0.4868 - loss: 0.6966 - val_accuracy: 0.1769 - val_auc: 0.5005 - val_loss: 0.7046 - learning_rate: 1.0000e-04\n",
            "Epoch 5/20\n",
            "\u001b[1m 21/165\u001b[0m \u001b[32m━━\u001b[0m\u001b[37m━━━━━━━━━━━━━━━━━━\u001b[0m \u001b[1m2:35\u001b[0m 1s/step - accuracy: 0.4377 - auc: 0.5159 - loss: 0.7304"
          ]
        }
      ]
    },
    {
      "cell_type": "code",
      "source": [
        "# ===========================\n",
        "# Cell 10 - Evaluation on test set (detailed metrics)\n",
        "# ===========================\n",
        "# load best model (checkpoint may have been saved)\n",
        "model.load_weights(checkpoint_path)\n",
        "print(\"Loaded best weights from:\", checkpoint_path)\n",
        "\n",
        "# get predictions and labels\n",
        "y_true = []\n",
        "y_probs = []\n",
        "for batch in test_ds:\n",
        "    imgs, labels = batch\n",
        "    probs = model.predict(imgs)\n",
        "    y_true.extend(labels.numpy().tolist())\n",
        "    y_probs.extend(probs.ravel().tolist())\n",
        "\n",
        "y_true = np.array(y_true)\n",
        "y_probs = np.array(y_probs)\n",
        "y_pred = (y_probs >= 0.5).astype(int)\n",
        "\n",
        "# Metrics\n",
        "print(\"Classification report (test):\")\n",
        "print(classification_report(y_true, y_pred, digits=4))\n",
        "cm = confusion_matrix(y_true, y_pred)\n",
        "print(\"Confusion matrix:\\n\", cm)\n",
        "auc = roc_auc_score(y_true, y_probs)\n",
        "print(\"ROC AUC:\", auc)\n",
        "\n",
        "# Save metrics\n",
        "metrics = {\n",
        "    \"confusion_matrix\": cm.tolist(),\n",
        "    \"roc_auc\": float(auc),\n",
        "    \"classification_report\": classification_report(y_true, y_pred, output_dict=True)\n",
        "}\n",
        "save_json(metrics, os.path.join(EXPERIMENT_DIR, \"metrics.json\"))\n",
        "print(\"Saved metrics.json\")\n"
      ],
      "metadata": {
        "id": "r-uSwGbLq6dL"
      },
      "execution_count": null,
      "outputs": []
    }
  ]
}